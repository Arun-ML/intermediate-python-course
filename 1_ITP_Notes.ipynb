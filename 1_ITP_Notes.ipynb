{
  "nbformat": 4,
  "nbformat_minor": 0,
  "metadata": {
    "colab": {
      "name": "1. ITP Notes.ipynb",
      "provenance": [],
      "authorship_tag": "ABX9TyMtbHbFZ7Fzdi6SwOJVoSUd",
      "include_colab_link": true
    },
    "kernelspec": {
      "name": "python3",
      "display_name": "Python 3"
    }
  },
  "cells": [
    {
      "cell_type": "markdown",
      "metadata": {
        "id": "view-in-github",
        "colab_type": "text"
      },
      "source": [
        "<a href=\"https://colab.research.google.com/github/Arun-ML/intermediate-python-course/blob/master/1_ITP_Notes.ipynb\" target=\"_parent\"><img src=\"https://colab.research.google.com/assets/colab-badge.svg\" alt=\"Open In Colab\"/></a>"
      ]
    },
    {
      "cell_type": "code",
      "metadata": {
        "colab": {
          "base_uri": "https://localhost:8080/"
        },
        "id": "2jIx2937Js_q",
        "outputId": "eee706ef-f1e0-4aa9-93dc-9d5c0b747d95"
      },
      "source": [
        "bool(-10)"
      ],
      "execution_count": 4,
      "outputs": [
        {
          "output_type": "execute_result",
          "data": {
            "text/plain": [
              "True"
            ]
          },
          "metadata": {
            "tags": []
          },
          "execution_count": 4
        }
      ]
    },
    {
      "cell_type": "markdown",
      "metadata": {
        "id": "rPzVXivGLpof"
      },
      "source": [
        "#Day 1 Notes"
      ]
    },
    {
      "cell_type": "markdown",
      "metadata": {
        "id": "izcOijgaJ7cm"
      },
      "source": [
        "Agenda: Pseudocodes, Python Data Types, Type Conversions,Python operators and bitwise operators"
      ]
    },
    {
      "cell_type": "markdown",
      "metadata": {
        "id": "1TSNJYKyNJUc"
      },
      "source": [
        "## Data types and conversions"
      ]
    },
    {
      "cell_type": "markdown",
      "metadata": {
        "id": "UxFHy4QFLOiB"
      },
      "source": [
        "1. int, float, string, boolean, as per the assignment of values\r\n",
        "'50' would be a string, whereas 50 shall be an int\r\n",
        "True would be Boolean\r\n",
        "2.Implicit conversion - say int+float = float\r\n",
        "3.Explicit conversion - say int(143.5)= 143, float(),complex(x) and complex(x,y)\r\n"
      ]
    },
    {
      "cell_type": "markdown",
      "metadata": {
        "id": "6emHdYG2MqZg"
      },
      "source": [
        "##Python Operators"
      ]
    },
    {
      "cell_type": "markdown",
      "metadata": {
        "id": "5-lnl5kqNR2U"
      },
      "source": [
        "1. Operators-  +,-,*,/,//, %\r\n",
        "2. Addition of strings leads to concatenation\r\n",
        "3. Cant subtract 2 strings\r\n",
        "4. Multiplying string with number, data gets repeated\r\n",
        "5. Operator // returns a integer quotient\r\n",
        "6. % Modulus is used for remainder\r\n",
        "7. ** is used for power\r\n",
        "8. input() function - getting data in runtime is by default string and not int\r\n",
        "9. relational operators (>, <, ==,!=) - output shall be boolean\r\n",
        "10. logical operators (AND, OR, NOT)"
      ]
    },
    {
      "cell_type": "code",
      "metadata": {
        "colab": {
          "base_uri": "https://localhost:8080/"
        },
        "id": "ghdeE1BvOJOE",
        "outputId": "dcd577e5-21b6-4a39-84aa-32101766993c"
      },
      "source": [
        "a=5//2\r\n",
        "c=6^4\r\n",
        "#bitwise operators\r\n",
        "b1=10;b2=7;x=b1&b2;y=b1|b2\r\n",
        "x,y,~b1,b1<<1,b1>>1"
      ],
      "execution_count": 20,
      "outputs": [
        {
          "output_type": "execute_result",
          "data": {
            "text/plain": [
              "(2, 15, -11, 20, 5)"
            ]
          },
          "metadata": {
            "tags": []
          },
          "execution_count": 20
        }
      ]
    },
    {
      "cell_type": "markdown",
      "metadata": {
        "id": "D5xlXLPoRyv1"
      },
      "source": [
        "##Other Syntax\r\n"
      ]
    },
    {
      "cell_type": "markdown",
      "metadata": {
        "id": "Ys-Vq3JNSDsn"
      },
      "source": [
        "1. Assignment Operation - a+=b is same as a=a+b\r\n",
        "2. Concatenation of list can be join(['AK','is','gr8'])\r\n",
        "3. Print syntax - type cast in printing %d for int, %f for float, %0.3f to specify say 3 digits, printing with delimiter\r\n",
        "print(1,10,100,1000,sep='->')\r\n",
        "4. len()\r\n",
        "5. String handling\r\n",
        "a=\"things are Gr8\",,  a.upper(), a.lower(), a.replace('things, 'We'), a.title()\r\n"
      ]
    },
    {
      "cell_type": "code",
      "metadata": {
        "colab": {
          "base_uri": "https://localhost:8080/"
        },
        "id": "jQlMIWQxTNXp",
        "outputId": "659e29fc-65fe-40dd-8c27-eb838dc3652b"
      },
      "source": [
        "print(1,10,100,1000,sep='->')"
      ],
      "execution_count": 21,
      "outputs": [
        {
          "output_type": "stream",
          "text": [
            "1->10->100->1000\n"
          ],
          "name": "stdout"
        }
      ]
    },
    {
      "cell_type": "code",
      "metadata": {
        "colab": {
          "base_uri": "https://localhost:8080/"
        },
        "id": "tp4WAhACTr3H",
        "outputId": "92df7d5e-ac16-47a2-e6c2-048f78e32338"
      },
      "source": [
        "a=\"things are Gr8\"\r\n",
        "a.upper(),a.lower(),a.title()"
      ],
      "execution_count": 22,
      "outputs": [
        {
          "output_type": "execute_result",
          "data": {
            "text/plain": [
              "('THINGS ARE GR8', 'things are gr8', 'Things Are Gr8')"
            ]
          },
          "metadata": {
            "tags": []
          },
          "execution_count": 22
        }
      ]
    },
    {
      "cell_type": "code",
      "metadata": {
        "colab": {
          "base_uri": "https://localhost:8080/"
        },
        "id": "CdrHfj_-UJFh",
        "outputId": "a46d9b33-3813-4171-f3d6-f70bc9489872"
      },
      "source": [
        "a[:5],a[::-1],a[::1]"
      ],
      "execution_count": 24,
      "outputs": [
        {
          "output_type": "execute_result",
          "data": {
            "text/plain": [
              "('thing', '8rG era sgniht', 'things are Gr8')"
            ]
          },
          "metadata": {
            "tags": []
          },
          "execution_count": 24
        }
      ]
    },
    {
      "cell_type": "markdown",
      "metadata": {
        "id": "jZ-KLDiDLnP-"
      },
      "source": [
        "# New Section"
      ]
    },
    {
      "cell_type": "markdown",
      "metadata": {
        "id": "NlJCvutQXDGw"
      },
      "source": [
        "a[start:stop:step]"
      ]
    }
  ]
}